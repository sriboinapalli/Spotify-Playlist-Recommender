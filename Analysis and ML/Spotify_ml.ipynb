{
 "cells": [
  {
   "cell_type": "code",
   "execution_count": 1,
   "metadata": {},
   "outputs": [],
   "source": [
    "import numpy as np\n",
    "import pandas as pd"
   ]
  },
  {
   "cell_type": "code",
   "execution_count": 2,
   "metadata": {},
   "outputs": [],
   "source": [
    "from __future__ import print_function"
   ]
  },
  {
   "cell_type": "code",
   "execution_count": 3,
   "metadata": {},
   "outputs": [
    {
     "data": {
      "text/html": [
       "<div>\n",
       "<style scoped>\n",
       "    .dataframe tbody tr th:only-of-type {\n",
       "        vertical-align: middle;\n",
       "    }\n",
       "\n",
       "    .dataframe tbody tr th {\n",
       "        vertical-align: top;\n",
       "    }\n",
       "\n",
       "    .dataframe thead th {\n",
       "        text-align: right;\n",
       "    }\n",
       "</style>\n",
       "<table border=\"1\" class=\"dataframe\">\n",
       "  <thead>\n",
       "    <tr style=\"text-align: right;\">\n",
       "      <th></th>\n",
       "      <th>danceability</th>\n",
       "      <th>energy</th>\n",
       "      <th>key</th>\n",
       "      <th>loudness</th>\n",
       "      <th>mode</th>\n",
       "      <th>speechiness</th>\n",
       "      <th>acousticness</th>\n",
       "      <th>instrumentalness</th>\n",
       "      <th>liveness</th>\n",
       "      <th>valence</th>\n",
       "      <th>tempo</th>\n",
       "      <th>type</th>\n",
       "      <th>uri</th>\n",
       "      <th>track_href</th>\n",
       "      <th>analysis_url</th>\n",
       "      <th>duration_ms</th>\n",
       "      <th>time_signature</th>\n",
       "      <th>popularity</th>\n",
       "      <th>main_artist</th>\n",
       "      <th>playlist</th>\n",
       "    </tr>\n",
       "    <tr>\n",
       "      <th>id</th>\n",
       "      <th></th>\n",
       "      <th></th>\n",
       "      <th></th>\n",
       "      <th></th>\n",
       "      <th></th>\n",
       "      <th></th>\n",
       "      <th></th>\n",
       "      <th></th>\n",
       "      <th></th>\n",
       "      <th></th>\n",
       "      <th></th>\n",
       "      <th></th>\n",
       "      <th></th>\n",
       "      <th></th>\n",
       "      <th></th>\n",
       "      <th></th>\n",
       "      <th></th>\n",
       "      <th></th>\n",
       "      <th></th>\n",
       "      <th></th>\n",
       "    </tr>\n",
       "  </thead>\n",
       "  <tbody>\n",
       "    <tr>\n",
       "      <th>7ltsfuHdqTZ5LwPpDy1q0v</th>\n",
       "      <td>0.786</td>\n",
       "      <td>0.579</td>\n",
       "      <td>2</td>\n",
       "      <td>-14.913</td>\n",
       "      <td>1</td>\n",
       "      <td>0.1420</td>\n",
       "      <td>0.1860</td>\n",
       "      <td>0.000000</td>\n",
       "      <td>0.1180</td>\n",
       "      <td>0.481</td>\n",
       "      <td>90.012</td>\n",
       "      <td>audio_features</td>\n",
       "      <td>spotify:track:7ltsfuHdqTZ5LwPpDy1q0v</td>\n",
       "      <td>https://api.spotify.com/v1/tracks/7ltsfuHdqTZ5...</td>\n",
       "      <td>https://api.spotify.com/v1/audio-analysis/7lts...</td>\n",
       "      <td>416613</td>\n",
       "      <td>4</td>\n",
       "      <td>45</td>\n",
       "      <td>Sukhwinder Singh</td>\n",
       "      <td>Hindi</td>\n",
       "    </tr>\n",
       "    <tr>\n",
       "      <th>0OXQa6GOzxeYWFopEmASw9</th>\n",
       "      <td>0.805</td>\n",
       "      <td>0.670</td>\n",
       "      <td>2</td>\n",
       "      <td>-13.187</td>\n",
       "      <td>1</td>\n",
       "      <td>0.0601</td>\n",
       "      <td>0.0493</td>\n",
       "      <td>0.000050</td>\n",
       "      <td>0.2030</td>\n",
       "      <td>0.916</td>\n",
       "      <td>122.992</td>\n",
       "      <td>audio_features</td>\n",
       "      <td>spotify:track:0OXQa6GOzxeYWFopEmASw9</td>\n",
       "      <td>https://api.spotify.com/v1/tracks/0OXQa6GOzxeY...</td>\n",
       "      <td>https://api.spotify.com/v1/audio-analysis/0OXQ...</td>\n",
       "      <td>425413</td>\n",
       "      <td>4</td>\n",
       "      <td>18</td>\n",
       "      <td>Shankar Mahadevan</td>\n",
       "      <td>Hindi</td>\n",
       "    </tr>\n",
       "    <tr>\n",
       "      <th>6B58TJqjGLQuuZBhQ3UnEA</th>\n",
       "      <td>0.767</td>\n",
       "      <td>0.503</td>\n",
       "      <td>9</td>\n",
       "      <td>-13.424</td>\n",
       "      <td>1</td>\n",
       "      <td>0.0828</td>\n",
       "      <td>0.1200</td>\n",
       "      <td>0.000096</td>\n",
       "      <td>0.1580</td>\n",
       "      <td>0.483</td>\n",
       "      <td>141.996</td>\n",
       "      <td>audio_features</td>\n",
       "      <td>spotify:track:6B58TJqjGLQuuZBhQ3UnEA</td>\n",
       "      <td>https://api.spotify.com/v1/tracks/6B58TJqjGLQu...</td>\n",
       "      <td>https://api.spotify.com/v1/audio-analysis/6B58...</td>\n",
       "      <td>309107</td>\n",
       "      <td>4</td>\n",
       "      <td>35</td>\n",
       "      <td>Lata Mangeshkar</td>\n",
       "      <td>Hindi</td>\n",
       "    </tr>\n",
       "    <tr>\n",
       "      <th>0IYpKZhCeoXB85BslBg3q5</th>\n",
       "      <td>0.646</td>\n",
       "      <td>0.908</td>\n",
       "      <td>11</td>\n",
       "      <td>-4.680</td>\n",
       "      <td>0</td>\n",
       "      <td>0.0988</td>\n",
       "      <td>0.4190</td>\n",
       "      <td>0.000002</td>\n",
       "      <td>0.3810</td>\n",
       "      <td>0.881</td>\n",
       "      <td>104.238</td>\n",
       "      <td>audio_features</td>\n",
       "      <td>spotify:track:0IYpKZhCeoXB85BslBg3q5</td>\n",
       "      <td>https://api.spotify.com/v1/tracks/0IYpKZhCeoXB...</td>\n",
       "      <td>https://api.spotify.com/v1/audio-analysis/0IYp...</td>\n",
       "      <td>327227</td>\n",
       "      <td>4</td>\n",
       "      <td>45</td>\n",
       "      <td>Jatin-Lalit</td>\n",
       "      <td>Hindi</td>\n",
       "    </tr>\n",
       "    <tr>\n",
       "      <th>7CcAKQatXMmlr7wi6BaQsI</th>\n",
       "      <td>0.493</td>\n",
       "      <td>0.947</td>\n",
       "      <td>1</td>\n",
       "      <td>-4.188</td>\n",
       "      <td>0</td>\n",
       "      <td>0.2060</td>\n",
       "      <td>0.0815</td>\n",
       "      <td>0.009370</td>\n",
       "      <td>0.0552</td>\n",
       "      <td>0.568</td>\n",
       "      <td>127.986</td>\n",
       "      <td>audio_features</td>\n",
       "      <td>spotify:track:7CcAKQatXMmlr7wi6BaQsI</td>\n",
       "      <td>https://api.spotify.com/v1/tracks/7CcAKQatXMml...</td>\n",
       "      <td>https://api.spotify.com/v1/audio-analysis/7CcA...</td>\n",
       "      <td>297927</td>\n",
       "      <td>4</td>\n",
       "      <td>40</td>\n",
       "      <td>Aditya Narayan</td>\n",
       "      <td>Hindi</td>\n",
       "    </tr>\n",
       "  </tbody>\n",
       "</table>\n",
       "</div>"
      ],
      "text/plain": [
       "                        danceability  energy  key  loudness  mode  \\\n",
       "id                                                                  \n",
       "7ltsfuHdqTZ5LwPpDy1q0v         0.786   0.579    2   -14.913     1   \n",
       "0OXQa6GOzxeYWFopEmASw9         0.805   0.670    2   -13.187     1   \n",
       "6B58TJqjGLQuuZBhQ3UnEA         0.767   0.503    9   -13.424     1   \n",
       "0IYpKZhCeoXB85BslBg3q5         0.646   0.908   11    -4.680     0   \n",
       "7CcAKQatXMmlr7wi6BaQsI         0.493   0.947    1    -4.188     0   \n",
       "\n",
       "                        speechiness  acousticness  instrumentalness  liveness  \\\n",
       "id                                                                              \n",
       "7ltsfuHdqTZ5LwPpDy1q0v       0.1420        0.1860          0.000000    0.1180   \n",
       "0OXQa6GOzxeYWFopEmASw9       0.0601        0.0493          0.000050    0.2030   \n",
       "6B58TJqjGLQuuZBhQ3UnEA       0.0828        0.1200          0.000096    0.1580   \n",
       "0IYpKZhCeoXB85BslBg3q5       0.0988        0.4190          0.000002    0.3810   \n",
       "7CcAKQatXMmlr7wi6BaQsI       0.2060        0.0815          0.009370    0.0552   \n",
       "\n",
       "                        valence    tempo            type  \\\n",
       "id                                                         \n",
       "7ltsfuHdqTZ5LwPpDy1q0v    0.481   90.012  audio_features   \n",
       "0OXQa6GOzxeYWFopEmASw9    0.916  122.992  audio_features   \n",
       "6B58TJqjGLQuuZBhQ3UnEA    0.483  141.996  audio_features   \n",
       "0IYpKZhCeoXB85BslBg3q5    0.881  104.238  audio_features   \n",
       "7CcAKQatXMmlr7wi6BaQsI    0.568  127.986  audio_features   \n",
       "\n",
       "                                                         uri  \\\n",
       "id                                                             \n",
       "7ltsfuHdqTZ5LwPpDy1q0v  spotify:track:7ltsfuHdqTZ5LwPpDy1q0v   \n",
       "0OXQa6GOzxeYWFopEmASw9  spotify:track:0OXQa6GOzxeYWFopEmASw9   \n",
       "6B58TJqjGLQuuZBhQ3UnEA  spotify:track:6B58TJqjGLQuuZBhQ3UnEA   \n",
       "0IYpKZhCeoXB85BslBg3q5  spotify:track:0IYpKZhCeoXB85BslBg3q5   \n",
       "7CcAKQatXMmlr7wi6BaQsI  spotify:track:7CcAKQatXMmlr7wi6BaQsI   \n",
       "\n",
       "                                                               track_href  \\\n",
       "id                                                                          \n",
       "7ltsfuHdqTZ5LwPpDy1q0v  https://api.spotify.com/v1/tracks/7ltsfuHdqTZ5...   \n",
       "0OXQa6GOzxeYWFopEmASw9  https://api.spotify.com/v1/tracks/0OXQa6GOzxeY...   \n",
       "6B58TJqjGLQuuZBhQ3UnEA  https://api.spotify.com/v1/tracks/6B58TJqjGLQu...   \n",
       "0IYpKZhCeoXB85BslBg3q5  https://api.spotify.com/v1/tracks/0IYpKZhCeoXB...   \n",
       "7CcAKQatXMmlr7wi6BaQsI  https://api.spotify.com/v1/tracks/7CcAKQatXMml...   \n",
       "\n",
       "                                                             analysis_url  \\\n",
       "id                                                                          \n",
       "7ltsfuHdqTZ5LwPpDy1q0v  https://api.spotify.com/v1/audio-analysis/7lts...   \n",
       "0OXQa6GOzxeYWFopEmASw9  https://api.spotify.com/v1/audio-analysis/0OXQ...   \n",
       "6B58TJqjGLQuuZBhQ3UnEA  https://api.spotify.com/v1/audio-analysis/6B58...   \n",
       "0IYpKZhCeoXB85BslBg3q5  https://api.spotify.com/v1/audio-analysis/0IYp...   \n",
       "7CcAKQatXMmlr7wi6BaQsI  https://api.spotify.com/v1/audio-analysis/7CcA...   \n",
       "\n",
       "                        duration_ms  time_signature  popularity  \\\n",
       "id                                                                \n",
       "7ltsfuHdqTZ5LwPpDy1q0v       416613               4          45   \n",
       "0OXQa6GOzxeYWFopEmASw9       425413               4          18   \n",
       "6B58TJqjGLQuuZBhQ3UnEA       309107               4          35   \n",
       "0IYpKZhCeoXB85BslBg3q5       327227               4          45   \n",
       "7CcAKQatXMmlr7wi6BaQsI       297927               4          40   \n",
       "\n",
       "                              main_artist playlist  \n",
       "id                                                  \n",
       "7ltsfuHdqTZ5LwPpDy1q0v   Sukhwinder Singh    Hindi  \n",
       "0OXQa6GOzxeYWFopEmASw9  Shankar Mahadevan    Hindi  \n",
       "6B58TJqjGLQuuZBhQ3UnEA    Lata Mangeshkar    Hindi  \n",
       "0IYpKZhCeoXB85BslBg3q5        Jatin-Lalit    Hindi  \n",
       "7CcAKQatXMmlr7wi6BaQsI     Aditya Narayan    Hindi  "
      ]
     },
     "execution_count": 3,
     "metadata": {},
     "output_type": "execute_result"
    }
   ],
   "source": [
    "all_tracks = pd.read_csv('all_tracks.csv', index_col = 12)\n",
    "all_tracks.head()"
   ]
  },
  {
   "cell_type": "code",
   "execution_count": 4,
   "metadata": {},
   "outputs": [
    {
     "data": {
      "text/html": [
       "<div>\n",
       "<style scoped>\n",
       "    .dataframe tbody tr th:only-of-type {\n",
       "        vertical-align: middle;\n",
       "    }\n",
       "\n",
       "    .dataframe tbody tr th {\n",
       "        vertical-align: top;\n",
       "    }\n",
       "\n",
       "    .dataframe thead th {\n",
       "        text-align: right;\n",
       "    }\n",
       "</style>\n",
       "<table border=\"1\" class=\"dataframe\">\n",
       "  <thead>\n",
       "    <tr style=\"text-align: right;\">\n",
       "      <th></th>\n",
       "      <th>danceability</th>\n",
       "      <th>energy</th>\n",
       "      <th>key</th>\n",
       "      <th>loudness</th>\n",
       "      <th>mode</th>\n",
       "      <th>speechiness</th>\n",
       "      <th>acousticness</th>\n",
       "      <th>instrumentalness</th>\n",
       "      <th>liveness</th>\n",
       "      <th>valence</th>\n",
       "      <th>tempo</th>\n",
       "      <th>duration_ms</th>\n",
       "      <th>time_signature</th>\n",
       "      <th>popularity</th>\n",
       "      <th>main_artist</th>\n",
       "      <th>playlist</th>\n",
       "    </tr>\n",
       "    <tr>\n",
       "      <th>id</th>\n",
       "      <th></th>\n",
       "      <th></th>\n",
       "      <th></th>\n",
       "      <th></th>\n",
       "      <th></th>\n",
       "      <th></th>\n",
       "      <th></th>\n",
       "      <th></th>\n",
       "      <th></th>\n",
       "      <th></th>\n",
       "      <th></th>\n",
       "      <th></th>\n",
       "      <th></th>\n",
       "      <th></th>\n",
       "      <th></th>\n",
       "      <th></th>\n",
       "    </tr>\n",
       "  </thead>\n",
       "  <tbody>\n",
       "    <tr>\n",
       "      <th>7ltsfuHdqTZ5LwPpDy1q0v</th>\n",
       "      <td>0.786</td>\n",
       "      <td>0.579</td>\n",
       "      <td>2</td>\n",
       "      <td>-14.913</td>\n",
       "      <td>1</td>\n",
       "      <td>0.1420</td>\n",
       "      <td>0.1860</td>\n",
       "      <td>0.000000</td>\n",
       "      <td>0.1180</td>\n",
       "      <td>0.481</td>\n",
       "      <td>90.012</td>\n",
       "      <td>416613</td>\n",
       "      <td>4</td>\n",
       "      <td>45</td>\n",
       "      <td>Sukhwinder Singh</td>\n",
       "      <td>Hindi</td>\n",
       "    </tr>\n",
       "    <tr>\n",
       "      <th>0OXQa6GOzxeYWFopEmASw9</th>\n",
       "      <td>0.805</td>\n",
       "      <td>0.670</td>\n",
       "      <td>2</td>\n",
       "      <td>-13.187</td>\n",
       "      <td>1</td>\n",
       "      <td>0.0601</td>\n",
       "      <td>0.0493</td>\n",
       "      <td>0.000050</td>\n",
       "      <td>0.2030</td>\n",
       "      <td>0.916</td>\n",
       "      <td>122.992</td>\n",
       "      <td>425413</td>\n",
       "      <td>4</td>\n",
       "      <td>18</td>\n",
       "      <td>Shankar Mahadevan</td>\n",
       "      <td>Hindi</td>\n",
       "    </tr>\n",
       "    <tr>\n",
       "      <th>6B58TJqjGLQuuZBhQ3UnEA</th>\n",
       "      <td>0.767</td>\n",
       "      <td>0.503</td>\n",
       "      <td>9</td>\n",
       "      <td>-13.424</td>\n",
       "      <td>1</td>\n",
       "      <td>0.0828</td>\n",
       "      <td>0.1200</td>\n",
       "      <td>0.000096</td>\n",
       "      <td>0.1580</td>\n",
       "      <td>0.483</td>\n",
       "      <td>141.996</td>\n",
       "      <td>309107</td>\n",
       "      <td>4</td>\n",
       "      <td>35</td>\n",
       "      <td>Lata Mangeshkar</td>\n",
       "      <td>Hindi</td>\n",
       "    </tr>\n",
       "    <tr>\n",
       "      <th>0IYpKZhCeoXB85BslBg3q5</th>\n",
       "      <td>0.646</td>\n",
       "      <td>0.908</td>\n",
       "      <td>11</td>\n",
       "      <td>-4.680</td>\n",
       "      <td>0</td>\n",
       "      <td>0.0988</td>\n",
       "      <td>0.4190</td>\n",
       "      <td>0.000002</td>\n",
       "      <td>0.3810</td>\n",
       "      <td>0.881</td>\n",
       "      <td>104.238</td>\n",
       "      <td>327227</td>\n",
       "      <td>4</td>\n",
       "      <td>45</td>\n",
       "      <td>Jatin-Lalit</td>\n",
       "      <td>Hindi</td>\n",
       "    </tr>\n",
       "    <tr>\n",
       "      <th>7CcAKQatXMmlr7wi6BaQsI</th>\n",
       "      <td>0.493</td>\n",
       "      <td>0.947</td>\n",
       "      <td>1</td>\n",
       "      <td>-4.188</td>\n",
       "      <td>0</td>\n",
       "      <td>0.2060</td>\n",
       "      <td>0.0815</td>\n",
       "      <td>0.009370</td>\n",
       "      <td>0.0552</td>\n",
       "      <td>0.568</td>\n",
       "      <td>127.986</td>\n",
       "      <td>297927</td>\n",
       "      <td>4</td>\n",
       "      <td>40</td>\n",
       "      <td>Aditya Narayan</td>\n",
       "      <td>Hindi</td>\n",
       "    </tr>\n",
       "  </tbody>\n",
       "</table>\n",
       "</div>"
      ],
      "text/plain": [
       "                        danceability  energy  key  loudness  mode  \\\n",
       "id                                                                  \n",
       "7ltsfuHdqTZ5LwPpDy1q0v         0.786   0.579    2   -14.913     1   \n",
       "0OXQa6GOzxeYWFopEmASw9         0.805   0.670    2   -13.187     1   \n",
       "6B58TJqjGLQuuZBhQ3UnEA         0.767   0.503    9   -13.424     1   \n",
       "0IYpKZhCeoXB85BslBg3q5         0.646   0.908   11    -4.680     0   \n",
       "7CcAKQatXMmlr7wi6BaQsI         0.493   0.947    1    -4.188     0   \n",
       "\n",
       "                        speechiness  acousticness  instrumentalness  liveness  \\\n",
       "id                                                                              \n",
       "7ltsfuHdqTZ5LwPpDy1q0v       0.1420        0.1860          0.000000    0.1180   \n",
       "0OXQa6GOzxeYWFopEmASw9       0.0601        0.0493          0.000050    0.2030   \n",
       "6B58TJqjGLQuuZBhQ3UnEA       0.0828        0.1200          0.000096    0.1580   \n",
       "0IYpKZhCeoXB85BslBg3q5       0.0988        0.4190          0.000002    0.3810   \n",
       "7CcAKQatXMmlr7wi6BaQsI       0.2060        0.0815          0.009370    0.0552   \n",
       "\n",
       "                        valence    tempo  duration_ms  time_signature  \\\n",
       "id                                                                      \n",
       "7ltsfuHdqTZ5LwPpDy1q0v    0.481   90.012       416613               4   \n",
       "0OXQa6GOzxeYWFopEmASw9    0.916  122.992       425413               4   \n",
       "6B58TJqjGLQuuZBhQ3UnEA    0.483  141.996       309107               4   \n",
       "0IYpKZhCeoXB85BslBg3q5    0.881  104.238       327227               4   \n",
       "7CcAKQatXMmlr7wi6BaQsI    0.568  127.986       297927               4   \n",
       "\n",
       "                        popularity        main_artist playlist  \n",
       "id                                                              \n",
       "7ltsfuHdqTZ5LwPpDy1q0v          45   Sukhwinder Singh    Hindi  \n",
       "0OXQa6GOzxeYWFopEmASw9          18  Shankar Mahadevan    Hindi  \n",
       "6B58TJqjGLQuuZBhQ3UnEA          35    Lata Mangeshkar    Hindi  \n",
       "0IYpKZhCeoXB85BslBg3q5          45        Jatin-Lalit    Hindi  \n",
       "7CcAKQatXMmlr7wi6BaQsI          40     Aditya Narayan    Hindi  "
      ]
     },
     "execution_count": 4,
     "metadata": {},
     "output_type": "execute_result"
    }
   ],
   "source": [
    "all_tracks = all_tracks.drop(['type','uri','track_href', 'analysis_url'], axis = 1)\n",
    "all_tracks.head()"
   ]
  },
  {
   "cell_type": "code",
   "execution_count": 5,
   "metadata": {},
   "outputs": [],
   "source": [
    "msk = np.random.randn(len(all_tracks)) < .8\n",
    "training = all_tracks[msk]\n",
    "testing= all_tracks[~msk]"
   ]
  },
  {
   "cell_type": "code",
   "execution_count": 6,
   "metadata": {},
   "outputs": [],
   "source": [
    "def list_of_lister(df):\n",
    "    row_list = []\n",
    "    for index, row in df.iterrows():\n",
    "        row_list.append(list(row))\n",
    "    return row_list\n",
    "all_tracks_input = list_of_lister(all_tracks)\n",
    "training_data = list_of_lister(training)\n",
    "testing_data = list_of_lister(testing)"
   ]
  },
  {
   "cell_type": "code",
   "execution_count": 7,
   "metadata": {},
   "outputs": [
    {
     "name": "stdout",
     "output_type": "stream",
     "text": [
      "['danceability', 'energy', 'key', 'loudness', 'mode', 'speechiness', 'acousticness', 'instrumentalness', 'liveness', 'valence', 'tempo', 'duration_ms', 'time_signature', 'popularity', 'main_artist', 'playlist']\n"
     ]
    }
   ],
   "source": [
    "# column labels\n",
    "column_labels = list(all_tracks.columns)\n",
    "print(column_labels)"
   ]
  },
  {
   "cell_type": "code",
   "execution_count": 8,
   "metadata": {},
   "outputs": [
    {
     "data": {
      "text/plain": [
       "{'Frictionless', 'Hindi', \"I'm a god\", 'Peak Trap'}"
      ]
     },
     "execution_count": 8,
     "metadata": {},
     "output_type": "execute_result"
    }
   ],
   "source": [
    "# Finding the number of unique playlists within the dataset\n",
    "def unique_vals(rows, col):\n",
    "    return set(row[col] for row in rows)\n",
    "unique_vals(all_tracks_input, -1)"
   ]
  },
  {
   "cell_type": "code",
   "execution_count": 9,
   "metadata": {},
   "outputs": [],
   "source": [
    "def class_counts(rows):\n",
    "    \"\"\"Counts the number of each type of example in a dataset.\"\"\"\n",
    "    counts = {}  # a dictionary of label -> count.\n",
    "    for row in rows:\n",
    "        # in our dataset format, the label is always the last column\n",
    "        label = row[-1]\n",
    "        if label not in counts:\n",
    "            counts[label] = 0\n",
    "        counts[label] += 1\n",
    "    return counts"
   ]
  },
  {
   "cell_type": "code",
   "execution_count": 10,
   "metadata": {},
   "outputs": [
    {
     "data": {
      "text/plain": [
       "{'Frictionless': 100, 'Hindi': 48, \"I'm a god\": 89, 'Peak Trap': 35}"
      ]
     },
     "execution_count": 10,
     "metadata": {},
     "output_type": "execute_result"
    }
   ],
   "source": [
    "class_counts(all_tracks_input)"
   ]
  },
  {
   "cell_type": "code",
   "execution_count": 11,
   "metadata": {},
   "outputs": [],
   "source": [
    "def  is_numeric(value):\n",
    "    \"\"\"Test if a value is numeric.\"\"\"\n",
    "    return isinstance(value, int) or isinstance(value, float)"
   ]
  },
  {
   "cell_type": "code",
   "execution_count": 12,
   "metadata": {},
   "outputs": [],
   "source": [
    "class  Question:\n",
    "    def __init__(self, column, value):\n",
    "        self.column = column\n",
    "        self.value = value\n",
    "\n",
    "    def match(self, example):\n",
    "        # Compare the feature value in an example to the\n",
    "        # feature value in this question.\n",
    "        val = example[self.column]\n",
    "        if is_numeric(val):\n",
    "            return val >= self.value\n",
    "        else:\n",
    "            return val == self.value\n",
    "\n",
    "    def __repr__(self):\n",
    "        # This is just a helper method to print\n",
    "        # the question in a readable format.\n",
    "        condition = \"==\"\n",
    "        if is_numeric(self.value):\n",
    "            condition = \">=\"\n",
    "        return \"Is %s %s %s?\" % (\n",
    "            column_labels[self.column], condition, str(self.value))"
   ]
  },
  {
   "cell_type": "code",
   "execution_count": 13,
   "metadata": {},
   "outputs": [],
   "source": [
    "q = Question(-1, 'Frictionless')"
   ]
  },
  {
   "cell_type": "code",
   "execution_count": 14,
   "metadata": {},
   "outputs": [],
   "source": [
    "example = all_tracks.iloc[1]"
   ]
  },
  {
   "cell_type": "code",
   "execution_count": 15,
   "metadata": {},
   "outputs": [
    {
     "data": {
      "text/plain": [
       "False"
      ]
     },
     "execution_count": 15,
     "metadata": {},
     "output_type": "execute_result"
    }
   ],
   "source": [
    "q.match(example)"
   ]
  },
  {
   "cell_type": "code",
   "execution_count": 16,
   "metadata": {},
   "outputs": [],
   "source": [
    "# This function partitions a dataset and checks if it matches the question\n",
    "# If it matches the question it is added to true_rows\n",
    "# Else it is added to false_rows\n",
    "def partition(rows, question):\n",
    "    true_rows, false_rows = [], []\n",
    "    for row in rows:\n",
    "        if question.match(row):\n",
    "            true_rows.append(row)\n",
    "        else:\n",
    "            false_rows.append(row)\n",
    "    return true_rows, false_rows"
   ]
  },
  {
   "cell_type": "code",
   "execution_count": 17,
   "metadata": {},
   "outputs": [],
   "source": [
    "#######\n",
    "# Demo:\n",
    "# Let's partition the training data based on whether or not the song is in the playlist Frictionless.\n",
    "true_rows, false_rows = partition(all_tracks_input, Question(-1, \"Frictionless\"))"
   ]
  },
  {
   "cell_type": "code",
   "execution_count": 18,
   "metadata": {},
   "outputs": [],
   "source": [
    "# Calculating gini coefficient of rows\n",
    "def gini(rows):\n",
    "    counts = class_counts(rows)\n",
    "    impurity = 1\n",
    "    for lbl in counts:\n",
    "        prob_of_lbl = counts[lbl] / float(len(rows))\n",
    "        impurity -= prob_of_lbl**2\n",
    "    return impurity"
   ]
  },
  {
   "cell_type": "code",
   "execution_count": 19,
   "metadata": {},
   "outputs": [
    {
     "data": {
      "text/plain": [
       "0.0"
      ]
     },
     "execution_count": 19,
     "metadata": {},
     "output_type": "execute_result"
    }
   ],
   "source": [
    "gini(true_rows)"
   ]
  },
  {
   "cell_type": "code",
   "execution_count": 20,
   "metadata": {},
   "outputs": [
    {
     "data": {
      "text/plain": [
       "0.6129664683612763"
      ]
     },
     "execution_count": 20,
     "metadata": {},
     "output_type": "execute_result"
    }
   ],
   "source": [
    "gini(false_rows)"
   ]
  },
  {
   "cell_type": "code",
   "execution_count": 21,
   "metadata": {},
   "outputs": [
    {
     "data": {
      "text/plain": [
       "0.7100724480968857"
      ]
     },
     "execution_count": 21,
     "metadata": {},
     "output_type": "execute_result"
    }
   ],
   "source": [
    "gini(all_tracks_input)"
   ]
  },
  {
   "cell_type": "code",
   "execution_count": 22,
   "metadata": {},
   "outputs": [],
   "source": [
    "def info_gain(left, right, current_uncertainty):\n",
    "    \"\"\"Information Gain.\n",
    "\n",
    "    The uncertainty of the starting node, minus the weighted impurity of\n",
    "    two child nodes.\n",
    "    \"\"\"\n",
    "    p = float(len(left)) / (len(left) + len(right))\n",
    "    return current_uncertainty - p * gini(left) - (1 - p) * gini(right)"
   ]
  },
  {
   "cell_type": "code",
   "execution_count": 23,
   "metadata": {},
   "outputs": [
    {
     "data": {
      "text/plain": [
       "0.713239626294083"
      ]
     },
     "execution_count": 23,
     "metadata": {},
     "output_type": "execute_result"
    }
   ],
   "source": [
    "#######\n",
    "# Demo:\n",
    "# Calculate the uncertainy of our training data.\n",
    "current_uncertainty = gini(training_data)\n",
    "current_uncertainty"
   ]
  },
  {
   "cell_type": "code",
   "execution_count": 24,
   "metadata": {},
   "outputs": [
    {
     "data": {
      "text/plain": [
       "0.13768318586030523"
      ]
     },
     "execution_count": 24,
     "metadata": {},
     "output_type": "execute_result"
    }
   ],
   "source": [
    "# How much information do we gain by partioning on Popularity = 50?\n",
    "true_rows, false_rows = partition(training_data, Question(-3, 50))\n",
    "info_gain(true_rows, false_rows, current_uncertainty)"
   ]
  },
  {
   "cell_type": "code",
   "execution_count": 25,
   "metadata": {},
   "outputs": [],
   "source": [
    "def  find_best_split(rows):\n",
    "    \"\"\"Find the best question to ask by iterating over every feature / value\n",
    "    and calculating the information gain.\"\"\"\n",
    "    best_gain = 0  # keep track of the best information gain\n",
    "    best_question = None  # keep train of the feature / value that produced it\n",
    "    current_uncertainty = gini(rows)\n",
    "    index_features = [0,1,3,5,6,13]  # index of the features in each list\n",
    "\n",
    "    for num in index_features:  # for each feature\n",
    "\n",
    "        values = set([row[num] for row in rows])  # unique values for each feature\n",
    "\n",
    "        for val in values:  # for each value\n",
    "\n",
    "            question = Question(num, val)\n",
    "\n",
    "            # try splitting the dataset\n",
    "            true_rows, false_rows = partition(rows, question)\n",
    "\n",
    "            # Skip this split if it doesn't divide the\n",
    "            # dataset.\n",
    "            if len(true_rows) == 0 or len(false_rows) == 0:\n",
    "                continue\n",
    "\n",
    "            # Calculate the information gain from this split\n",
    "            gain = info_gain(true_rows, false_rows, current_uncertainty)\n",
    "\n",
    "            # You actually can use '>' instead of '>=' here\n",
    "            # but I wanted the tree to look a certain way for our\n",
    "            # toy dataset.\n",
    "            if gain >= best_gain:\n",
    "                best_gain, best_question = gain, question\n",
    "\n",
    "    return best_gain, best_question"
   ]
  },
  {
   "cell_type": "code",
   "execution_count": 26,
   "metadata": {},
   "outputs": [
    {
     "data": {
      "text/plain": [
       "Is popularity >= 50?"
      ]
     },
     "execution_count": 26,
     "metadata": {},
     "output_type": "execute_result"
    }
   ],
   "source": [
    "#######\n",
    "# Demo:\n",
    "# Find the best question to ask first for our toy dataset.\n",
    "best_gain, best_question = find_best_split(training_data)\n",
    "best_question\n",
    "# FYI: is color == Red is just as good. See the note in the code above\n",
    "# where I used '>='.\n",
    "#######"
   ]
  },
  {
   "cell_type": "code",
   "execution_count": 27,
   "metadata": {},
   "outputs": [],
   "source": [
    "# This class is used to represent leaf nodes in our decision tree, leaf nodes classify data. The class Leaf holds\n",
    "# a dictionary of target values and the number of times it appears in the rows that have made it to this leaf node\n",
    "class Leaf:\n",
    "    def __init__(self, rows):\n",
    "        self.predictions = class_counts(rows)"
   ]
  },
  {
   "cell_type": "code",
   "execution_count": 28,
   "metadata": {},
   "outputs": [],
   "source": [
    "# Next we will initialize a class called Decision_Node, in decision trees, a decision node asks a question, this class holds\n",
    "# reference to a question and to the child_nodes\n",
    "class Decision_Node:\n",
    "    def __init__(self, question, true_branch, false_branch):\n",
    "        self.question = question\n",
    "        self.true_branch = true_branch\n",
    "        self.false_branch = false_branch"
   ]
  },
  {
   "cell_type": "code",
   "execution_count": 29,
   "metadata": {},
   "outputs": [],
   "source": [
    "# Now we have a function called build_tree, which takes in the data as an input and builds a tree recursively\n",
    "def build_tree(rows):\n",
    "    gain, question = find_best_split(rows)\n",
    "    \n",
    "    if gain == 0:\n",
    "        return Leaf(rows)\n",
    "    \n",
    "    true_rows, false_rows = partition(rows, question)\n",
    "    \n",
    "    true_branch = build_tree(true_rows)\n",
    "    \n",
    "    false_branch = build_tree(false_rows)\n",
    "    \n",
    "    return Decision_Node(question, true_branch, false_branch)"
   ]
  },
  {
   "cell_type": "code",
   "execution_count": 30,
   "metadata": {},
   "outputs": [],
   "source": [
    "# Next we have a function called print_tree which basically allows us to print our tree in a pretty format\n",
    "def print_tree(node, spacing = \"\"):\n",
    "    if isinstance(node, Leaf):\n",
    "        print(spacing + \"Predict:\", node.predictions)\n",
    "        return\n",
    "    print(spacing + str(node.question))\n",
    "    \n",
    "    print(spacing + \"--> True\")\n",
    "    print_tree(node.true_branch, spacing + \"    \")\n",
    "    \n",
    "    print(spacing + \"--> False\")\n",
    "    print_tree(node.false_branch, spacing + \"    \")\n",
    "    "
   ]
  },
  {
   "cell_type": "code",
   "execution_count": 31,
   "metadata": {},
   "outputs": [],
   "source": [
    "my_tree = build_tree(training_data)"
   ]
  },
  {
   "cell_type": "code",
   "execution_count": 32,
   "metadata": {},
   "outputs": [
    {
     "name": "stdout",
     "output_type": "stream",
     "text": [
      "Is popularity >= 50?\n",
      "--> True\n",
      "    Is acousticness >= 0.0957?\n",
      "    --> True\n",
      "        Is speechiness >= 0.129?\n",
      "        --> True\n",
      "            Is danceability >= 0.828?\n",
      "            --> True\n",
      "                Predict: {\"I'm a god\": 12}\n",
      "            --> False\n",
      "                Is loudness >= -4.104?\n",
      "                --> True\n",
      "                    Predict: {\"I'm a god\": 4}\n",
      "                --> False\n",
      "                    Is loudness >= -8.571?\n",
      "                    --> True\n",
      "                        Is acousticness >= 0.5429999999999999?\n",
      "                        --> True\n",
      "                            Is popularity >= 73?\n",
      "                            --> True\n",
      "                                Predict: {'Frictionless': 1}\n",
      "                            --> False\n",
      "                                Is speechiness >= 0.213?\n",
      "                                --> True\n",
      "                                    Predict: {\"I'm a god\": 2}\n",
      "                                --> False\n",
      "                                    Predict: {'Frictionless': 1}\n",
      "                        --> False\n",
      "                            Predict: {'Frictionless': 13}\n",
      "                    --> False\n",
      "                        Is acousticness >= 0.445?\n",
      "                        --> True\n",
      "                            Is loudness >= -11.925?\n",
      "                            --> True\n",
      "                                Is loudness >= -8.714?\n",
      "                                --> True\n",
      "                                    Predict: {\"I'm a god\": 1}\n",
      "                                --> False\n",
      "                                    Predict: {'Frictionless': 4}\n",
      "                            --> False\n",
      "                                Is popularity >= 65?\n",
      "                                --> True\n",
      "                                    Predict: {'Peak Trap': 1}\n",
      "                                --> False\n",
      "                                    Predict: {\"I'm a god\": 1}\n",
      "                        --> False\n",
      "                            Predict: {\"I'm a god\": 3}\n",
      "        --> False\n",
      "            Is loudness >= -3.7430000000000003?\n",
      "            --> True\n",
      "                Is popularity >= 75?\n",
      "                --> True\n",
      "                    Predict: {\"I'm a god\": 1}\n",
      "                --> False\n",
      "                    Predict: {'Peak Trap': 2}\n",
      "            --> False\n",
      "                Is popularity >= 52?\n",
      "                --> True\n",
      "                    Is acousticness >= 0.244?\n",
      "                    --> True\n",
      "                        Is loudness >= -15.605?\n",
      "                        --> True\n",
      "                            Predict: {'Frictionless': 34}\n",
      "                        --> False\n",
      "                            Is popularity >= 60?\n",
      "                            --> True\n",
      "                                Predict: {'Peak Trap': 1}\n",
      "                            --> False\n",
      "                                Predict: {'Frictionless': 1}\n",
      "                    --> False\n",
      "                        Is acousticness >= 0.142?\n",
      "                        --> True\n",
      "                            Is speechiness >= 0.0647?\n",
      "                            --> True\n",
      "                                Predict: {'Frictionless': 3}\n",
      "                            --> False\n",
      "                                Predict: {\"I'm a god\": 3}\n",
      "                        --> False\n",
      "                            Predict: {'Frictionless': 6}\n",
      "                --> False\n",
      "                    Is popularity >= 51?\n",
      "                    --> True\n",
      "                        Is acousticness >= 0.33399999999999996?\n",
      "                        --> True\n",
      "                            Predict: {'Hindi': 1}\n",
      "                        --> False\n",
      "                            Predict: {'Peak Trap': 1}\n",
      "                    --> False\n",
      "                        Predict: {'Frictionless': 2}\n",
      "    --> False\n",
      "        Is popularity >= 64?\n",
      "        --> True\n",
      "            Is speechiness >= 0.10800000000000001?\n",
      "            --> True\n",
      "                Predict: {\"I'm a god\": 17}\n",
      "            --> False\n",
      "                Is danceability >= 0.713?\n",
      "                --> True\n",
      "                    Is speechiness >= 0.10300000000000001?\n",
      "                    --> True\n",
      "                        Predict: {'Frictionless': 1}\n",
      "                    --> False\n",
      "                        Predict: {\"I'm a god\": 7}\n",
      "                --> False\n",
      "                    Is popularity >= 75?\n",
      "                    --> True\n",
      "                        Predict: {'Frictionless': 2}\n",
      "                    --> False\n",
      "                        Predict: {'Peak Trap': 1}\n",
      "        --> False\n",
      "            Is speechiness >= 0.0964?\n",
      "            --> True\n",
      "                Is loudness >= -5.905?\n",
      "                --> True\n",
      "                    Predict: {\"I'm a god\": 6}\n",
      "                --> False\n",
      "                    Is popularity >= 58?\n",
      "                    --> True\n",
      "                        Predict: {'Frictionless': 3}\n",
      "                    --> False\n",
      "                        Is acousticness >= 0.0457?\n",
      "                        --> True\n",
      "                            Predict: {\"I'm a god\": 1}\n",
      "                        --> False\n",
      "                            Predict: {'Frictionless': 1}\n",
      "            --> False\n",
      "                Is energy >= 0.684?\n",
      "                --> True\n",
      "                    Is danceability >= 0.527?\n",
      "                    --> True\n",
      "                        Predict: {'Peak Trap': 5}\n",
      "                    --> False\n",
      "                        Predict: {'Frictionless': 2}\n",
      "                --> False\n",
      "                    Is acousticness >= 0.00829?\n",
      "                    --> True\n",
      "                        Predict: {\"I'm a god\": 2}\n",
      "                    --> False\n",
      "                        Predict: {'Frictionless': 1}\n",
      "--> False\n",
      "    Is speechiness >= 0.249?\n",
      "    --> True\n",
      "        Is loudness >= -6.603?\n",
      "        --> True\n",
      "            Predict: {\"I'm a god\": 5}\n",
      "        --> False\n",
      "            Is acousticness >= 0.644?\n",
      "            --> True\n",
      "                Predict: {'Peak Trap': 2}\n",
      "            --> False\n",
      "                Is popularity >= 39?\n",
      "                --> True\n",
      "                    Predict: {'Frictionless': 2}\n",
      "                --> False\n",
      "                    Predict: {'Hindi': 1}\n",
      "    --> False\n",
      "        Is loudness >= -4.863?\n",
      "        --> True\n",
      "            Is acousticness >= 0.266?\n",
      "            --> True\n",
      "                Predict: {'Hindi': 2}\n",
      "            --> False\n",
      "                Is speechiness >= 0.11900000000000001?\n",
      "                --> True\n",
      "                    Is energy >= 0.812?\n",
      "                    --> True\n",
      "                        Predict: {'Hindi': 3}\n",
      "                    --> False\n",
      "                        Predict: {'Peak Trap': 2}\n",
      "                --> False\n",
      "                    Is energy >= 0.861?\n",
      "                    --> True\n",
      "                        Predict: {'Peak Trap': 6}\n",
      "                    --> False\n",
      "                        Predict: {'Hindi': 1}\n",
      "        --> False\n",
      "            Is danceability >= 0.919?\n",
      "            --> True\n",
      "                Predict: {'Peak Trap': 2}\n",
      "            --> False\n",
      "                Is popularity >= 32?\n",
      "                --> True\n",
      "                    Is danceability >= 0.59?\n",
      "                    --> True\n",
      "                        Is acousticness >= 0.0297?\n",
      "                        --> True\n",
      "                            Is acousticness >= 0.157?\n",
      "                            --> True\n",
      "                                Is speechiness >= 0.0595?\n",
      "                                --> True\n",
      "                                    Predict: {'Hindi': 9}\n",
      "                                --> False\n",
      "                                    Is speechiness >= 0.0486?\n",
      "                                    --> True\n",
      "                                        Is popularity >= 42?\n",
      "                                        --> True\n",
      "                                            Predict: {\"I'm a god\": 1}\n",
      "                                        --> False\n",
      "                                            Predict: {'Peak Trap': 1}\n",
      "                                    --> False\n",
      "                                        Predict: {'Hindi': 2}\n",
      "                            --> False\n",
      "                                Is danceability >= 0.815?\n",
      "                                --> True\n",
      "                                    Predict: {'Hindi': 4}\n",
      "                                --> False\n",
      "                                    Predict: {'Peak Trap': 4}\n",
      "                        --> False\n",
      "                            Is popularity >= 44?\n",
      "                            --> True\n",
      "                                Predict: {'Frictionless': 2}\n",
      "                            --> False\n",
      "                                Predict: {'Hindi': 1}\n",
      "                    --> False\n",
      "                        Predict: {'Frictionless': 2}\n",
      "                --> False\n",
      "                    Is energy >= 0.449?\n",
      "                    --> True\n",
      "                        Predict: {'Hindi': 17}\n",
      "                    --> False\n",
      "                        Is popularity >= 25?\n",
      "                        --> True\n",
      "                            Predict: {'Hindi': 1}\n",
      "                        --> False\n",
      "                            Predict: {'Frictionless': 1}\n"
     ]
    }
   ],
   "source": [
    "print_tree(my_tree)"
   ]
  },
  {
   "cell_type": "code",
   "execution_count": 33,
   "metadata": {},
   "outputs": [],
   "source": [
    "# This next function is called classify, which once again is a recursive function, it takes in a given row of data in\n",
    "# as an input and node, which is a decision node output as another input\n",
    "def classify(row, node):\n",
    "    if isinstance(node, Leaf):\n",
    "        return node.predictions\n",
    "    \n",
    "    if node.question.match(row):\n",
    "        return classify(row, node.true_branch)\n",
    "    else:\n",
    "        return classify(row, node.false_branch)"
   ]
  },
  {
   "cell_type": "code",
   "execution_count": 34,
   "metadata": {},
   "outputs": [
    {
     "data": {
      "text/plain": [
       "{'Hindi': 9}"
      ]
     },
     "execution_count": 34,
     "metadata": {},
     "output_type": "execute_result"
    }
   ],
   "source": [
    "#######\n",
    "# Demo:\n",
    "# The tree predicts the 1st row of our\n",
    "# training data is an apple with confidence 1.\n",
    "classify(training_data[0], my_tree)\n",
    "#######"
   ]
  },
  {
   "cell_type": "code",
   "execution_count": 35,
   "metadata": {},
   "outputs": [],
   "source": [
    "def print_leaf(counts):\n",
    "    \"\"\"A nicer way to print the predictions at a leaf.\"\"\"\n",
    "    total = sum(counts.values()) * 1.0\n",
    "    probs = {}\n",
    "    for lbl in counts.keys():\n",
    "        probs[lbl] = str(int(counts[lbl] / total * 100)) + \"%\"\n",
    "    return probs"
   ]
  },
  {
   "cell_type": "code",
   "execution_count": 36,
   "metadata": {},
   "outputs": [
    {
     "data": {
      "text/plain": [
       "{'Hindi': '100%'}"
      ]
     },
     "execution_count": 36,
     "metadata": {},
     "output_type": "execute_result"
    }
   ],
   "source": [
    "#######\n",
    "# Demo:\n",
    "# Printing that a bit nicer\n",
    "print_leaf(classify(training_data[0], my_tree))\n",
    "#######"
   ]
  },
  {
   "cell_type": "code",
   "execution_count": 37,
   "metadata": {},
   "outputs": [
    {
     "data": {
      "text/plain": [
       "{'Frictionless': '100%'}"
      ]
     },
     "execution_count": 37,
     "metadata": {},
     "output_type": "execute_result"
    }
   ],
   "source": [
    "#######\n",
    "# Demo:\n",
    "# On the second example, the confidence is lower\n",
    "print_leaf(classify(training_data[96], my_tree))\n",
    "#######"
   ]
  },
  {
   "cell_type": "code",
   "execution_count": 38,
   "metadata": {},
   "outputs": [
    {
     "name": "stdout",
     "output_type": "stream",
     "text": [
      "Actual: Hindi. Predicted: {'Peak Trap': '100%'}\n",
      "Actual: Hindi. Predicted: {'Hindi': '100%'}\n",
      "Actual: Hindi. Predicted: {'Hindi': '100%'}\n",
      "Actual: Hindi. Predicted: {'Hindi': '100%'}\n",
      "Actual: Hindi. Predicted: {'Hindi': '100%'}\n",
      "Actual: Hindi. Predicted: {'Hindi': '100%'}\n",
      "Actual: Peak Trap. Predicted: {'Peak Trap': '100%'}\n",
      "Actual: Peak Trap. Predicted: {\"I'm a god\": '100%'}\n",
      "Actual: Peak Trap. Predicted: {\"I'm a god\": '100%'}\n",
      "Actual: Peak Trap. Predicted: {'Peak Trap': '100%'}\n",
      "Actual: Peak Trap. Predicted: {\"I'm a god\": '100%'}\n",
      "Actual: Peak Trap. Predicted: {'Hindi': '100%'}\n",
      "Actual: Peak Trap. Predicted: {'Frictionless': '100%'}\n",
      "Actual: Frictionless. Predicted: {'Frictionless': '100%'}\n",
      "Actual: Frictionless. Predicted: {'Frictionless': '100%'}\n",
      "Actual: Frictionless. Predicted: {'Peak Trap': '100%'}\n",
      "Actual: Frictionless. Predicted: {'Frictionless': '100%'}\n",
      "Actual: Frictionless. Predicted: {'Frictionless': '100%'}\n",
      "Actual: Frictionless. Predicted: {'Frictionless': '100%'}\n",
      "Actual: Frictionless. Predicted: {\"I'm a god\": '100%'}\n",
      "Actual: Frictionless. Predicted: {\"I'm a god\": '100%'}\n",
      "Actual: Frictionless. Predicted: {'Peak Trap': '100%'}\n",
      "Actual: Frictionless. Predicted: {'Frictionless': '100%'}\n",
      "Actual: Frictionless. Predicted: {'Frictionless': '100%'}\n",
      "Actual: Frictionless. Predicted: {'Frictionless': '100%'}\n",
      "Actual: Frictionless. Predicted: {'Hindi': '100%'}\n",
      "Actual: Frictionless. Predicted: {'Frictionless': '100%'}\n",
      "Actual: Frictionless. Predicted: {'Frictionless': '100%'}\n",
      "Actual: Frictionless. Predicted: {'Frictionless': '100%'}\n",
      "Actual: Frictionless. Predicted: {'Frictionless': '100%'}\n",
      "Actual: Frictionless. Predicted: {'Frictionless': '100%'}\n",
      "Actual: I'm a god. Predicted: {'Frictionless': '100%'}\n",
      "Actual: I'm a god. Predicted: {'Frictionless': '100%'}\n",
      "Actual: I'm a god. Predicted: {'Frictionless': '100%'}\n",
      "Actual: I'm a god. Predicted: {'Frictionless': '100%'}\n",
      "Actual: I'm a god. Predicted: {'Frictionless': '100%'}\n",
      "Actual: I'm a god. Predicted: {\"I'm a god\": '100%'}\n",
      "Actual: I'm a god. Predicted: {'Frictionless': '100%'}\n",
      "Actual: I'm a god. Predicted: {\"I'm a god\": '100%'}\n",
      "Actual: I'm a god. Predicted: {\"I'm a god\": '100%'}\n",
      "Actual: I'm a god. Predicted: {'Peak Trap': '100%'}\n",
      "Actual: I'm a god. Predicted: {\"I'm a god\": '100%'}\n",
      "Actual: I'm a god. Predicted: {\"I'm a god\": '100%'}\n",
      "Actual: I'm a god. Predicted: {\"I'm a god\": '100%'}\n",
      "Actual: I'm a god. Predicted: {\"I'm a god\": '100%'}\n",
      "Actual: I'm a god. Predicted: {'Frictionless': '100%'}\n",
      "Actual: I'm a god. Predicted: {\"I'm a god\": '100%'}\n",
      "Actual: I'm a god. Predicted: {\"I'm a god\": '100%'}\n",
      "Actual: I'm a god. Predicted: {\"I'm a god\": '100%'}\n",
      "Actual: I'm a god. Predicted: {'Frictionless': '100%'}\n",
      "Actual: I'm a god. Predicted: {'Peak Trap': '100%'}\n",
      "Actual: I'm a god. Predicted: {'Hindi': '100%'}\n",
      "Actual: I'm a god. Predicted: {'Frictionless': '100%'}\n",
      "Actual: I'm a god. Predicted: {'Frictionless': '100%'}\n",
      "0.5555555555555556\n"
     ]
    }
   ],
   "source": [
    "row_list = []\n",
    "item_list = []\n",
    "from sklearn.metrics import accuracy_score\n",
    "for row in testing_data:\n",
    "    print (\"Actual: %s. Predicted: %s\" %\n",
    "           (row[-1], print_leaf(classify(row, my_tree))))\n",
    "    row_list.append(row[-1])\n",
    "    for item in print_leaf(classify(row,my_tree)).keys():\n",
    "        item_list.append(item)\n",
    "print(accuracy_score(row_list, item_list))"
   ]
  },
  {
   "cell_type": "code",
   "execution_count": 39,
   "metadata": {},
   "outputs": [
    {
     "data": {
      "text/plain": [
       "54"
      ]
     },
     "execution_count": 39,
     "metadata": {},
     "output_type": "execute_result"
    }
   ],
   "source": [
    "len(testing_data)"
   ]
  },
  {
   "cell_type": "code",
   "execution_count": null,
   "metadata": {},
   "outputs": [],
   "source": []
  },
  {
   "cell_type": "code",
   "execution_count": null,
   "metadata": {},
   "outputs": [],
   "source": []
  },
  {
   "cell_type": "code",
   "execution_count": null,
   "metadata": {},
   "outputs": [],
   "source": []
  },
  {
   "cell_type": "code",
   "execution_count": null,
   "metadata": {},
   "outputs": [],
   "source": []
  },
  {
   "cell_type": "code",
   "execution_count": null,
   "metadata": {},
   "outputs": [],
   "source": []
  },
  {
   "cell_type": "code",
   "execution_count": null,
   "metadata": {},
   "outputs": [],
   "source": []
  },
  {
   "cell_type": "code",
   "execution_count": null,
   "metadata": {},
   "outputs": [],
   "source": []
  },
  {
   "cell_type": "code",
   "execution_count": null,
   "metadata": {},
   "outputs": [],
   "source": []
  }
 ],
 "metadata": {
  "kernelspec": {
   "display_name": "Python 3",
   "language": "python",
   "name": "python3"
  },
  "language_info": {
   "codemirror_mode": {
    "name": "ipython",
    "version": 3
   },
   "file_extension": ".py",
   "mimetype": "text/x-python",
   "name": "python",
   "nbconvert_exporter": "python",
   "pygments_lexer": "ipython3",
   "version": "3.6.3"
  }
 },
 "nbformat": 4,
 "nbformat_minor": 2
}
